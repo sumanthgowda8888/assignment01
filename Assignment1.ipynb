{
  "nbformat": 4,
  "nbformat_minor": 0,
  "metadata": {
    "colab": {
      "provenance": [],
      "include_colab_link": true
    },
    "kernelspec": {
      "name": "python3",
      "display_name": "Python 3"
    },
    "language_info": {
      "name": "python"
    }
  },
  "cells": [
    {
      "cell_type": "markdown",
      "metadata": {
        "id": "view-in-github",
        "colab_type": "text"
      },
      "source": [
        "<a href=\"https://colab.research.google.com/github/sumanthgowda8888/assignment01/blob/main/Assignment1.ipynb\" target=\"_parent\"><img src=\"https://colab.research.google.com/assets/colab-badge.svg\" alt=\"Open In Colab\"/></a>"
      ]
    },
    {
      "cell_type": "code",
      "execution_count": null,
      "metadata": {
        "colab": {
          "base_uri": "https://localhost:8080/"
        },
        "id": "uEVHYN0bwZuY",
        "outputId": "5e30cc80-ac4b-454c-a4da-5bb2344b15cc"
      },
      "outputs": [
        {
          "output_type": "stream",
          "name": "stdout",
          "text": [
            "    Year_bought\n",
            "0          1995\n",
            "1          1990\n",
            "2          2022\n",
            "3          2021\n",
            "4          2005\n",
            "5          2008\n",
            "6          2009\n",
            "7          2010\n",
            "8          2012\n",
            "9          2015\n",
            "10         2016\n",
            "11         2022\n"
          ]
        }
      ],
      "source": [
        "import numpy as np\n",
        "import pandas as pd\n",
        "\n",
        "df=pd.read_csv('/content/sample_data/Used_Car_Data.csv')\n",
        "print(df)"
      ]
    },
    {
      "cell_type": "code",
      "source": [
        "df=df.assign(age_of_vechile=None)\n",
        "df=df.assign(Price_after_depreciation=None)\n",
        "df=df.assign(Conclusion=None)\n",
        "df=df.drop(['showroom_price'],axis=1)\n",
        "print(df)\n",
        "cur_year=2023\n",
        "showroom_price=1000000"
      ],
      "metadata": {
        "colab": {
          "base_uri": "https://localhost:8080/"
        },
        "id": "X4goZF_aykkJ",
        "outputId": "b5cf904c-624c-4cf0-dbb1-60e10acc2908"
      },
      "execution_count": null,
      "outputs": [
        {
          "output_type": "stream",
          "name": "stdout",
          "text": [
            "    Year_bought age_of_vechile Price_after_depreciation Conclusion\n",
            "0          1995           None                     None       None\n",
            "1          1990           None                     None       None\n",
            "2          2022           None                     None       None\n",
            "3          2021           None                     None       None\n",
            "4          2005           None                     None       None\n",
            "5          2008           None                     None       None\n",
            "6          2009           None                     None       None\n",
            "7          2010           None                     None       None\n",
            "8          2012           None                     None       None\n",
            "9          2015           None                     None       None\n",
            "10         2016           None                     None       None\n",
            "11         2022           None                     None       None\n"
          ]
        }
      ]
    },
    {
      "cell_type": "markdown",
      "source": [
        "#Current age"
      ],
      "metadata": {
        "id": "HbxbXUac2C4Y"
      }
    },
    {
      "cell_type": "code",
      "source": [
        "for index,value in df['Year_bought'].iteritems():\n",
        "  age=cur_year-value\n",
        "  df.at[index, \"age_of_vechile\"] = age\n",
        "print(df)\n"
      ],
      "metadata": {
        "colab": {
          "base_uri": "https://localhost:8080/"
        },
        "id": "ymTINHb9y8vu",
        "outputId": "3b17373f-5f4a-458f-b0da-60c7383ff92e"
      },
      "execution_count": null,
      "outputs": [
        {
          "output_type": "stream",
          "name": "stdout",
          "text": [
            "    Year_bought age_of_vechile Price_after_depreciation Conclusion\n",
            "0          1995             28                     None       None\n",
            "1          1990             33                     None       None\n",
            "2          2022              1                     None       None\n",
            "3          2021              2                     None       None\n",
            "4          2005             18                     None       None\n",
            "5          2008             15                     None       None\n",
            "6          2009             14                     None       None\n",
            "7          2010             13                     None       None\n",
            "8          2012             11                     None       None\n",
            "9          2015              8                     None       None\n",
            "10         2016              7                     None       None\n",
            "11         2022              1                     None       None\n"
          ]
        }
      ]
    },
    {
      "cell_type": "markdown",
      "source": [
        "#Price after decipation"
      ],
      "metadata": {
        "id": "AaEvLmuH2GoE"
      }
    },
    {
      "cell_type": "code",
      "source": [
        "for index,value in df['age_of_vechile'].iteritems():\n",
        "  p_a_d=showroom_price/value\n",
        "  df.at[index,\"Price_after_depreciation\"]=p_a_d\n",
        "print(df)"
      ],
      "metadata": {
        "colab": {
          "base_uri": "https://localhost:8080/"
        },
        "id": "VrZgvWJi1sZl",
        "outputId": "27128c03-cb8d-4b2a-b747-0b448cf4c340"
      },
      "execution_count": null,
      "outputs": [
        {
          "output_type": "stream",
          "name": "stdout",
          "text": [
            "    Year_bought age_of_vechile Price_after_depreciation Conclusion\n",
            "0          1995             28             35714.285714       None\n",
            "1          1990             33             30303.030303       None\n",
            "2          2022              1                1000000.0       None\n",
            "3          2021              2                 500000.0       None\n",
            "4          2005             18             55555.555556       None\n",
            "5          2008             15             66666.666667       None\n",
            "6          2009             14             71428.571429       None\n",
            "7          2010             13             76923.076923       None\n",
            "8          2012             11             90909.090909       None\n",
            "9          2015              8                 125000.0       None\n",
            "10         2016              7            142857.142857       None\n",
            "11         2022              1                1000000.0       None\n"
          ]
        }
      ]
    },
    {
      "cell_type": "markdown",
      "source": [
        "#Conclusion"
      ],
      "metadata": {
        "id": "YIwyTnPA3GeJ"
      }
    },
    {
      "cell_type": "code",
      "source": [
        "for index,value in df['Price_after_depreciation'].iteritems():\n",
        "  if value<500000:\n",
        "     df.at[index,\"Conclusion\"]=\"scrap\"\n",
        "  else:\n",
        "    df.at[index,\"Conclusion\"]=\"auction\"\n",
        "print(df)"
      ],
      "metadata": {
        "colab": {
          "base_uri": "https://localhost:8080/"
        },
        "id": "QnX78F-F2x2a",
        "outputId": "63bc76f1-de69-4c50-84fa-d8e4c60dabb8"
      },
      "execution_count": null,
      "outputs": [
        {
          "output_type": "stream",
          "name": "stdout",
          "text": [
            "    Year_bought age_of_vechile Price_after_depreciation Conclusion\n",
            "0          1995             28             35714.285714      scrap\n",
            "1          1990             33             30303.030303      scrap\n",
            "2          2022              1                1000000.0    auction\n",
            "3          2021              2                 500000.0    auction\n",
            "4          2005             18             55555.555556      scrap\n",
            "5          2008             15             66666.666667      scrap\n",
            "6          2009             14             71428.571429      scrap\n",
            "7          2010             13             76923.076923      scrap\n",
            "8          2012             11             90909.090909      scrap\n",
            "9          2015              8                 125000.0      scrap\n",
            "10         2016              7            142857.142857      scrap\n",
            "11         2022              1                1000000.0    auction\n"
          ]
        }
      ]
    },
    {
      "cell_type": "code",
      "source": [
        "df.to_csv('final_result.csv')"
      ],
      "metadata": {
        "id": "sEszZDTY3mF3"
      },
      "execution_count": null,
      "outputs": []
    },
    {
      "cell_type": "code",
      "source": [],
      "metadata": {
        "id": "x_pvXpcQ3_o_"
      },
      "execution_count": null,
      "outputs": []
    }
  ]
}